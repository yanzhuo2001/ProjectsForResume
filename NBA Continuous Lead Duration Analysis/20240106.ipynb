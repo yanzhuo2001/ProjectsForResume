{
 "cells": [
  {
   "cell_type": "code",
   "execution_count": 1,
   "id": "initial_id",
   "metadata": {
    "collapsed": true,
    "ExecuteTime": {
     "end_time": "2024-02-17T22:42:53.511238700Z",
     "start_time": "2024-02-17T22:41:29.109387800Z"
    }
   },
   "outputs": [],
   "source": [
    "import pandas as pd\n",
    "import matplotlib.pyplot as plt\n",
    "from datetime import datetime\n",
    "import json\n",
    "\n",
    "# 读取数据集\n",
    "file_name = 'data/pbpstats_2000.csv'\n",
    "df = pd.read_csv(file_name)\n",
    "\n",
    "# 反转DataFrame\n",
    "df = df.iloc[::-1]\n",
    "\n",
    "# 转换时间格式并调整时间\n",
    "df['ENDTIME'] = pd.to_datetime(df['ENDTIME'], format='%M:%S')\n",
    "df['STARTTIME'] = pd.to_datetime(df['STARTTIME'], format='%M:%S')\n",
    "df.loc[df['PERIOD'] == 1, ['ENDTIME', 'STARTTIME']] += pd.to_timedelta('36 minutes')\n",
    "df.loc[df['PERIOD'] == 2, ['ENDTIME', 'STARTTIME']] += pd.to_timedelta('24 minutes')\n",
    "df.loc[df['PERIOD'] == 3, ['ENDTIME', 'STARTTIME']] += pd.to_timedelta('12 minutes')\n",
    "df['ENDTIME'] = df['ENDTIME'].dt.strftime('%M:%S')\n",
    "df['STARTTIME'] = df['STARTTIME'].dt.strftime('%M:%S')\n",
    "\n",
    "# 在时间调整之后对数据进行排序\n",
    "df['ENDTIME'] = pd.to_datetime(df['ENDTIME'], format='%M:%S')\n",
    "df['STARTTIME'] = pd.to_datetime(df['STARTTIME'], format='%M:%S')\n",
    "\n",
    "# 对每场比赛的事件进行排序\n",
    "df.sort_values(by=['GAMEID', 'STARTTIME'], ascending=[True, False], inplace=True)\n",
    "\n",
    "# 将时间转换回字符串格式，以便之后的处理\n",
    "df['ENDTIME'] = df['ENDTIME'].dt.strftime('%M:%S')\n",
    "df['STARTTIME'] = df['STARTTIME'].dt.strftime('%M:%S')\n",
    "\n",
    "# 识别每场比赛中的两支球队并统一分差视角\n",
    "for gameid in df['GAMEID'].unique():\n",
    "    game_data = df[df['GAMEID'] == gameid]\n",
    "\n",
    "    # 确定两支球队（假设每场比赛只有两支球队参与）\n",
    "    teams = game_data['OPPONENT'].unique()\n",
    "    if len(teams) != 2:\n",
    "        raise ValueError(f\"Unexpected number of teams in game {gameid}\")\n",
    "\n",
    "    # 选择球队1作为参考\n",
    "    team1 = teams[0]\n",
    "\n",
    "    # 调整 STARTSCOREDIFFERENTIAL，使其始终从球队1的视角表示\n",
    "    for index, row in game_data.iterrows():\n",
    "        if row['OPPONENT'] != team1:\n",
    "            df.at[index, 'STARTSCOREDIFFERENTIAL'] = -row['STARTSCOREDIFFERENTIAL']\n",
    "\n",
    "# 创建 ABSOLUTESCOREDIFFERENTIAL 列\n",
    "df['ABSOLUTESCOREDIFFERENTIAL'] = df['STARTSCOREDIFFERENTIAL']"
   ]
  },
  {
   "cell_type": "code",
   "execution_count": 2,
   "outputs": [
    {
     "data": {
      "text/plain": "      ENDTIME                                             EVENTS  FG2A  FG2M  \\\n47766   47:49  MISS Webber 18' Jump Shot\\nSabonis REBOUND (Of...     1     0   \n47765   47:49  MISS Webber 18' Jump Shot\\nSabonis REBOUND (Of...     1     0   \n47964   47:25  MISS Sabonis 8' Hook Shot\\nDivac REBOUND (Off:...     1     0   \n47963   47:25  MISS Sabonis 8' Hook Shot\\nDivac REBOUND (Off:...     1     0   \n47764   47:14  MISS Divac 17' Jump Shot\\nStojakovic REBOUND (...     2     1   \n47763   47:14  MISS Divac 17' Jump Shot\\nStojakovic REBOUND (...     2     1   \n47762   47:14  MISS Divac 17' Jump Shot\\nStojakovic REBOUND (...     2     1   \n47962   46:57  Divac STEAL (1 STL): Wallace Lost Ball Turnove...     0     0   \n47761   46:56                 Divac Lost Ball Turnover (P1.T1)\\n     0     0   \n47961   46:41  MISS Wallace 20' Jump Shot\\nWebber REBOUND (Of...     1     0   \n47960   46:41  MISS Wallace 20' Jump Shot\\nWebber REBOUND (Of...     1     0   \n47760   46:26  MISS Divac 8' Jump Shot\\nWallace REBOUND (Off:...     1     0   \n47759   46:26  MISS Divac 8' Jump Shot\\nWallace REBOUND (Off:...     1     0   \n47959   46:04                     Pippen 13' Jump Shot (2 PTS)\\n     1     1   \n47758   45:48  MISS Stojakovic 25' 3PT Jump Shot\\nDivac REBOU...     1     0   \n47757   45:48  MISS Stojakovic 25' 3PT Jump Shot\\nDivac REBOU...     1     0   \n47756   45:48  MISS Stojakovic 25' 3PT Jump Shot\\nDivac REBOU...     1     0   \n47755   45:48  MISS Stojakovic 25' 3PT Jump Shot\\nDivac REBOU...     1     0   \n47958   45:36  MISS Stoudamire 7' Jump Shot\\nDivac REBOUND (O...     1     0   \n47957   45:36  MISS Stoudamire 7' Jump Shot\\nDivac REBOUND (O...     1     0   \n47754   45:31  Christie 24' 3PT Jump Shot (3 PTS) (Williams 1...     0     0   \n47956   45:11  MISS Wallace  3PT Jump Shot\\nWebber REBOUND (O...     0     0   \n47955   45:11  MISS Wallace  3PT Jump Shot\\nWebber REBOUND (O...     0     0   \n47753   45:02  MISS Williams 25' 3PT Jump Shot\\nPippen REBOUN...     0     0   \n47752   45:02  MISS Williams 25' 3PT Jump Shot\\nPippen REBOUN...     0     0   \n47954   44:53      Sabonis 21' Jump Shot (2 PTS) (Smith 1 AST)\\n     1     1   \n47751   44:38  Sabonis S.FOUL (P1.T1)\\nMISS Divac Free Throw ...     0     0   \n47750   44:38  Sabonis S.FOUL (P1.T1)\\nMISS Divac Free Throw ...     0     0   \n47749   44:38  Sabonis S.FOUL (P1.T1)\\nMISS Divac Free Throw ...     0     0   \n47748   44:38  Sabonis S.FOUL (P1.T1)\\nMISS Divac Free Throw ...     0     0   \n47747   44:38  Sabonis S.FOUL (P1.T1)\\nMISS Divac Free Throw ...     0     0   \n47953   44:24   Sabonis 4' Finger Roll (4 PTS) (Wallace 1 AST)\\n     1     1   \n47746   44:11  MISS Webber 19' Jump Shot\\nSabonis REBOUND (Of...     1     0   \n47745   44:11  MISS Webber 19' Jump Shot\\nSabonis REBOUND (Of...     1     0   \n47952   44:02  Smith 17' Jump Shot (2 PTS) (Stoudamire 1 AST)...     1     1   \n47951   44:02  Smith 17' Jump Shot (2 PTS) (Stoudamire 1 AST)...     1     1   \n47950   44:02  Smith 17' Jump Shot (2 PTS) (Stoudamire 1 AST)...     1     1   \n47744   43:38  MISS Stojakovic  Driving Layup\\nDivac REBOUND ...     4     0   \n47743   43:38  MISS Stojakovic  Driving Layup\\nDivac REBOUND ...     4     0   \n47742   43:38  MISS Stojakovic  Driving Layup\\nDivac REBOUND ...     4     0   \n\n       FG3A  FG3M    GAMEDATE    GAMEID  NONSHOOTINGFOULSTHATRESULTEDINFTS  \\\n47766     0     0  2001-04-08  20001109                                  0   \n47765     0     0  2001-04-08  20001109                                  0   \n47964     0     0  2001-04-08  20001109                                  0   \n47963     0     0  2001-04-08  20001109                                  0   \n47764     0     0  2001-04-08  20001109                                  0   \n47763     0     0  2001-04-08  20001109                                  0   \n47762     0     0  2001-04-08  20001109                                  0   \n47962     0     0  2001-04-08  20001109                                  0   \n47761     0     0  2001-04-08  20001109                                  0   \n47961     0     0  2001-04-08  20001109                                  0   \n47960     0     0  2001-04-08  20001109                                  0   \n47760     0     0  2001-04-08  20001109                                  0   \n47759     0     0  2001-04-08  20001109                                  0   \n47959     0     0  2001-04-08  20001109                                  0   \n47758     1     0  2001-04-08  20001109                                  0   \n47757     1     0  2001-04-08  20001109                                  0   \n47756     1     0  2001-04-08  20001109                                  0   \n47755     1     0  2001-04-08  20001109                                  0   \n47958     0     0  2001-04-08  20001109                                  0   \n47957     0     0  2001-04-08  20001109                                  0   \n47754     1     1  2001-04-08  20001109                                  0   \n47956     1     0  2001-04-08  20001109                                  0   \n47955     1     0  2001-04-08  20001109                                  0   \n47753     1     0  2001-04-08  20001109                                  0   \n47752     1     0  2001-04-08  20001109                                  0   \n47954     0     0  2001-04-08  20001109                                  0   \n47751     0     0  2001-04-08  20001109                                  0   \n47750     0     0  2001-04-08  20001109                                  0   \n47749     0     0  2001-04-08  20001109                                  0   \n47748     0     0  2001-04-08  20001109                                  0   \n47747     0     0  2001-04-08  20001109                                  0   \n47953     0     0  2001-04-08  20001109                                  0   \n47746     0     0  2001-04-08  20001109                                  0   \n47745     0     0  2001-04-08  20001109                                  0   \n47952     0     0  2001-04-08  20001109                                  0   \n47951     0     0  2001-04-08  20001109                                  0   \n47950     0     0  2001-04-08  20001109                                  0   \n47744     0     0  2001-04-08  20001109                                  0   \n47743     0     0  2001-04-08  20001109                                  0   \n47742     0     0  2001-04-08  20001109                                  0   \n\n       OFFENSIVEREBOUNDS OPPONENT  PERIOD  SHOOTINGFOULSDRAWN  \\\n47766                  0      POR       1                   0   \n47765                  0      POR       1                   0   \n47964                  0      SAC       1                   0   \n47963                  0      SAC       1                   0   \n47764                  1      POR       1                   0   \n47763                  1      POR       1                   0   \n47762                  1      POR       1                   0   \n47962                  0      SAC       1                   0   \n47761                  0      POR       1                   0   \n47961                  0      SAC       1                   0   \n47960                  0      SAC       1                   0   \n47760                  0      POR       1                   0   \n47759                  0      POR       1                   0   \n47959                  0      SAC       1                   0   \n47758                  1      POR       1                   0   \n47757                  1      POR       1                   0   \n47756                  1      POR       1                   0   \n47755                  1      POR       1                   0   \n47958                  0      SAC       1                   0   \n47957                  0      SAC       1                   0   \n47754                  0      POR       1                   0   \n47956                  0      SAC       1                   0   \n47955                  0      SAC       1                   0   \n47753                  0      POR       1                   0   \n47752                  0      POR       1                   0   \n47954                  0      SAC       1                   0   \n47751                  0      POR       1                   1   \n47750                  0      POR       1                   1   \n47749                  0      POR       1                   1   \n47748                  0      POR       1                   1   \n47747                  0      POR       1                   1   \n47953                  0      SAC       1                   0   \n47746                  0      POR       1                   0   \n47745                  0      POR       1                   0   \n47952                  0      SAC       1                   1   \n47951                  0      SAC       1                   1   \n47950                  0      SAC       1                   1   \n47744                  3      POR       1                   0   \n47743                  3      POR       1                   0   \n47742                  3      POR       1                   0   \n\n       STARTSCOREDIFFERENTIAL STARTTIME                 STARTTYPE  TURNOVERS  \\\n47766                       0     48:00             Off Dead Ball          0   \n47765                       0     48:00             Off Dead Ball          0   \n47964                       0     47:49   Off Long Mid-Range Miss          0   \n47963                       0     47:49   Off Long Mid-Range Miss          0   \n47764                       0     47:25  Off Short Mid-Range Miss          0   \n47763                       0     47:25  Off Short Mid-Range Miss          0   \n47762                       0     47:25  Off Short Mid-Range Miss          0   \n47962                       2     47:14           Off At Rim Make          1   \n47761                       2     46:57                 Off Steal          1   \n47961                       2     46:56             Off Dead Ball          0   \n47960                       2     46:56             Off Dead Ball          0   \n47760                       2     46:41   Off Long Mid-Range Miss          0   \n47759                       2     46:41   Off Long Mid-Range Miss          0   \n47959                       2     46:26  Off Short Mid-Range Miss          0   \n47758                       0     46:04  Off Short Mid-Range Make          0   \n47757                       0     46:04  Off Short Mid-Range Make          0   \n47756                       0     46:04  Off Short Mid-Range Make          0   \n47755                       0     46:04  Off Short Mid-Range Make          0   \n47958                       0     45:48           Off At Rim Miss          0   \n47957                       0     45:48           Off At Rim Miss          0   \n47754                       0     45:36  Off Short Mid-Range Miss          0   \n47956                       3     45:31            Off Arc 3 Make          0   \n47955                       3     45:31            Off Arc 3 Make          0   \n47753                       3     45:11         Off Corner 3 Miss          0   \n47752                       3     45:11         Off Corner 3 Miss          0   \n47954                       3     45:02            Off Arc 3 Miss          0   \n47751                       1     44:53   Off Long Mid-Range Make          0   \n47750                       1     44:53   Off Long Mid-Range Make          0   \n47749                       1     44:53   Off Long Mid-Range Make          0   \n47748                       1     44:53   Off Long Mid-Range Make          0   \n47747                       1     44:53   Off Long Mid-Range Make          0   \n47953                       1     44:38               Off FT Miss          0   \n47746                      -1     44:24           Off At Rim Make          0   \n47745                      -1     44:24           Off At Rim Make          0   \n47952                      -1     44:11   Off Long Mid-Range Miss          0   \n47951                      -1     44:11   Off Long Mid-Range Miss          0   \n47950                      -1     44:11   Off Long Mid-Range Miss          0   \n47744                      -4     44:02               Off FT Make          0   \n47743                      -4     44:02               Off FT Make          0   \n47742                      -4     44:02               Off FT Make          0   \n\n                                             DESCRIPTION  URL  \\\n47766                      Sabonis REBOUND (Off:0 Def:1)  NaN   \n47765                          MISS Webber 18' Jump Shot  NaN   \n47964                        Divac REBOUND (Off:0 Def:1)  NaN   \n47963                          MISS Sabonis 8' Hook Shot  NaN   \n47764                  Stojakovic  Reverse Layup (2 PTS)  NaN   \n47763                   Stojakovic REBOUND (Off:1 Def:0)  NaN   \n47762                           MISS Divac 17' Jump Shot  NaN   \n47962  Divac STEAL (1 STL): Wallace Lost Ball Turnove...  NaN   \n47761                   Divac Lost Ball Turnover (P1.T1)  NaN   \n47961                       Webber REBOUND (Off:0 Def:1)  NaN   \n47960                         MISS Wallace 20' Jump Shot  NaN   \n47760                      Wallace REBOUND (Off:0 Def:1)  NaN   \n47759                            MISS Divac 8' Jump Shot  NaN   \n47959                       Pippen 13' Jump Shot (2 PTS)  NaN   \n47758                      Sabonis REBOUND (Off:0 Def:2)  NaN   \n47757                       MISS Webber  Alley Oop Layup  NaN   \n47756                        Divac REBOUND (Off:1 Def:1)  NaN   \n47755                  MISS Stojakovic 25' 3PT Jump Shot  NaN   \n47958                        Divac REBOUND (Off:1 Def:2)  NaN   \n47957                       MISS Stoudamire 7' Jump Shot  NaN   \n47754  Christie 24' 3PT Jump Shot (3 PTS) (Williams 1...  NaN   \n47956                       Webber REBOUND (Off:0 Def:2)  NaN   \n47955                        MISS Wallace  3PT Jump Shot  NaN   \n47753                       Pippen REBOUND (Off:0 Def:1)  NaN   \n47752                    MISS Williams 25' 3PT Jump Shot  NaN   \n47954        Sabonis 21' Jump Shot (2 PTS) (Smith 1 AST)  NaN   \n47751                      Wallace REBOUND (Off:0 Def:2)  NaN   \n47750                       MISS Divac Free Throw 2 of 2  NaN   \n47749                                      KINGS Rebound  NaN   \n47748                       MISS Divac Free Throw 1 of 2  NaN   \n47747                             Sabonis S.FOUL (P1.T1)  NaN   \n47953     Sabonis 4' Finger Roll (4 PTS) (Wallace 1 AST)  NaN   \n47746                      Sabonis REBOUND (Off:0 Def:3)  NaN   \n47745                          MISS Webber 19' Jump Shot  NaN   \n47952                    Smith Free Throw 1 of 1 (3 PTS)  NaN   \n47951                            Christie S.FOUL (P1.T1)  NaN   \n47950     Smith 17' Jump Shot (2 PTS) (Stoudamire 1 AST)  NaN   \n47744                      Wallace REBOUND (Off:0 Def:3)  NaN   \n47743                               MISS Divac  Tip Shot  NaN   \n47742                        Divac REBOUND (Off:4 Def:2)  NaN   \n\n       ABSOLUTESCOREDIFFERENTIAL  \n47766                          0  \n47765                          0  \n47964                          0  \n47963                          0  \n47764                          0  \n47763                          0  \n47762                          0  \n47962                          2  \n47761                          2  \n47961                          2  \n47960                          2  \n47760                          2  \n47759                          2  \n47959                          2  \n47758                          0  \n47757                          0  \n47756                          0  \n47755                          0  \n47958                          0  \n47957                          0  \n47754                          0  \n47956                          3  \n47955                          3  \n47753                          3  \n47752                          3  \n47954                          3  \n47751                          1  \n47750                          1  \n47749                          1  \n47748                          1  \n47747                          1  \n47953                          1  \n47746                         -1  \n47745                         -1  \n47952                         -1  \n47951                         -1  \n47950                         -1  \n47744                         -4  \n47743                         -4  \n47742                         -4  ",
      "text/html": "<div>\n<style scoped>\n    .dataframe tbody tr th:only-of-type {\n        vertical-align: middle;\n    }\n\n    .dataframe tbody tr th {\n        vertical-align: top;\n    }\n\n    .dataframe thead th {\n        text-align: right;\n    }\n</style>\n<table border=\"1\" class=\"dataframe\">\n  <thead>\n    <tr style=\"text-align: right;\">\n      <th></th>\n      <th>ENDTIME</th>\n      <th>EVENTS</th>\n      <th>FG2A</th>\n      <th>FG2M</th>\n      <th>FG3A</th>\n      <th>FG3M</th>\n      <th>GAMEDATE</th>\n      <th>GAMEID</th>\n      <th>NONSHOOTINGFOULSTHATRESULTEDINFTS</th>\n      <th>OFFENSIVEREBOUNDS</th>\n      <th>OPPONENT</th>\n      <th>PERIOD</th>\n      <th>SHOOTINGFOULSDRAWN</th>\n      <th>STARTSCOREDIFFERENTIAL</th>\n      <th>STARTTIME</th>\n      <th>STARTTYPE</th>\n      <th>TURNOVERS</th>\n      <th>DESCRIPTION</th>\n      <th>URL</th>\n      <th>ABSOLUTESCOREDIFFERENTIAL</th>\n    </tr>\n  </thead>\n  <tbody>\n    <tr>\n      <th>47766</th>\n      <td>47:49</td>\n      <td>MISS Webber 18' Jump Shot\\nSabonis REBOUND (Of...</td>\n      <td>1</td>\n      <td>0</td>\n      <td>0</td>\n      <td>0</td>\n      <td>2001-04-08</td>\n      <td>20001109</td>\n      <td>0</td>\n      <td>0</td>\n      <td>POR</td>\n      <td>1</td>\n      <td>0</td>\n      <td>0</td>\n      <td>48:00</td>\n      <td>Off Dead Ball</td>\n      <td>0</td>\n      <td>Sabonis REBOUND (Off:0 Def:1)</td>\n      <td>NaN</td>\n      <td>0</td>\n    </tr>\n    <tr>\n      <th>47765</th>\n      <td>47:49</td>\n      <td>MISS Webber 18' Jump Shot\\nSabonis REBOUND (Of...</td>\n      <td>1</td>\n      <td>0</td>\n      <td>0</td>\n      <td>0</td>\n      <td>2001-04-08</td>\n      <td>20001109</td>\n      <td>0</td>\n      <td>0</td>\n      <td>POR</td>\n      <td>1</td>\n      <td>0</td>\n      <td>0</td>\n      <td>48:00</td>\n      <td>Off Dead Ball</td>\n      <td>0</td>\n      <td>MISS Webber 18' Jump Shot</td>\n      <td>NaN</td>\n      <td>0</td>\n    </tr>\n    <tr>\n      <th>47964</th>\n      <td>47:25</td>\n      <td>MISS Sabonis 8' Hook Shot\\nDivac REBOUND (Off:...</td>\n      <td>1</td>\n      <td>0</td>\n      <td>0</td>\n      <td>0</td>\n      <td>2001-04-08</td>\n      <td>20001109</td>\n      <td>0</td>\n      <td>0</td>\n      <td>SAC</td>\n      <td>1</td>\n      <td>0</td>\n      <td>0</td>\n      <td>47:49</td>\n      <td>Off Long Mid-Range Miss</td>\n      <td>0</td>\n      <td>Divac REBOUND (Off:0 Def:1)</td>\n      <td>NaN</td>\n      <td>0</td>\n    </tr>\n    <tr>\n      <th>47963</th>\n      <td>47:25</td>\n      <td>MISS Sabonis 8' Hook Shot\\nDivac REBOUND (Off:...</td>\n      <td>1</td>\n      <td>0</td>\n      <td>0</td>\n      <td>0</td>\n      <td>2001-04-08</td>\n      <td>20001109</td>\n      <td>0</td>\n      <td>0</td>\n      <td>SAC</td>\n      <td>1</td>\n      <td>0</td>\n      <td>0</td>\n      <td>47:49</td>\n      <td>Off Long Mid-Range Miss</td>\n      <td>0</td>\n      <td>MISS Sabonis 8' Hook Shot</td>\n      <td>NaN</td>\n      <td>0</td>\n    </tr>\n    <tr>\n      <th>47764</th>\n      <td>47:14</td>\n      <td>MISS Divac 17' Jump Shot\\nStojakovic REBOUND (...</td>\n      <td>2</td>\n      <td>1</td>\n      <td>0</td>\n      <td>0</td>\n      <td>2001-04-08</td>\n      <td>20001109</td>\n      <td>0</td>\n      <td>1</td>\n      <td>POR</td>\n      <td>1</td>\n      <td>0</td>\n      <td>0</td>\n      <td>47:25</td>\n      <td>Off Short Mid-Range Miss</td>\n      <td>0</td>\n      <td>Stojakovic  Reverse Layup (2 PTS)</td>\n      <td>NaN</td>\n      <td>0</td>\n    </tr>\n    <tr>\n      <th>47763</th>\n      <td>47:14</td>\n      <td>MISS Divac 17' Jump Shot\\nStojakovic REBOUND (...</td>\n      <td>2</td>\n      <td>1</td>\n      <td>0</td>\n      <td>0</td>\n      <td>2001-04-08</td>\n      <td>20001109</td>\n      <td>0</td>\n      <td>1</td>\n      <td>POR</td>\n      <td>1</td>\n      <td>0</td>\n      <td>0</td>\n      <td>47:25</td>\n      <td>Off Short Mid-Range Miss</td>\n      <td>0</td>\n      <td>Stojakovic REBOUND (Off:1 Def:0)</td>\n      <td>NaN</td>\n      <td>0</td>\n    </tr>\n    <tr>\n      <th>47762</th>\n      <td>47:14</td>\n      <td>MISS Divac 17' Jump Shot\\nStojakovic REBOUND (...</td>\n      <td>2</td>\n      <td>1</td>\n      <td>0</td>\n      <td>0</td>\n      <td>2001-04-08</td>\n      <td>20001109</td>\n      <td>0</td>\n      <td>1</td>\n      <td>POR</td>\n      <td>1</td>\n      <td>0</td>\n      <td>0</td>\n      <td>47:25</td>\n      <td>Off Short Mid-Range Miss</td>\n      <td>0</td>\n      <td>MISS Divac 17' Jump Shot</td>\n      <td>NaN</td>\n      <td>0</td>\n    </tr>\n    <tr>\n      <th>47962</th>\n      <td>46:57</td>\n      <td>Divac STEAL (1 STL): Wallace Lost Ball Turnove...</td>\n      <td>0</td>\n      <td>0</td>\n      <td>0</td>\n      <td>0</td>\n      <td>2001-04-08</td>\n      <td>20001109</td>\n      <td>0</td>\n      <td>0</td>\n      <td>SAC</td>\n      <td>1</td>\n      <td>0</td>\n      <td>2</td>\n      <td>47:14</td>\n      <td>Off At Rim Make</td>\n      <td>1</td>\n      <td>Divac STEAL (1 STL): Wallace Lost Ball Turnove...</td>\n      <td>NaN</td>\n      <td>2</td>\n    </tr>\n    <tr>\n      <th>47761</th>\n      <td>46:56</td>\n      <td>Divac Lost Ball Turnover (P1.T1)\\n</td>\n      <td>0</td>\n      <td>0</td>\n      <td>0</td>\n      <td>0</td>\n      <td>2001-04-08</td>\n      <td>20001109</td>\n      <td>0</td>\n      <td>0</td>\n      <td>POR</td>\n      <td>1</td>\n      <td>0</td>\n      <td>2</td>\n      <td>46:57</td>\n      <td>Off Steal</td>\n      <td>1</td>\n      <td>Divac Lost Ball Turnover (P1.T1)</td>\n      <td>NaN</td>\n      <td>2</td>\n    </tr>\n    <tr>\n      <th>47961</th>\n      <td>46:41</td>\n      <td>MISS Wallace 20' Jump Shot\\nWebber REBOUND (Of...</td>\n      <td>1</td>\n      <td>0</td>\n      <td>0</td>\n      <td>0</td>\n      <td>2001-04-08</td>\n      <td>20001109</td>\n      <td>0</td>\n      <td>0</td>\n      <td>SAC</td>\n      <td>1</td>\n      <td>0</td>\n      <td>2</td>\n      <td>46:56</td>\n      <td>Off Dead Ball</td>\n      <td>0</td>\n      <td>Webber REBOUND (Off:0 Def:1)</td>\n      <td>NaN</td>\n      <td>2</td>\n    </tr>\n    <tr>\n      <th>47960</th>\n      <td>46:41</td>\n      <td>MISS Wallace 20' Jump Shot\\nWebber REBOUND (Of...</td>\n      <td>1</td>\n      <td>0</td>\n      <td>0</td>\n      <td>0</td>\n      <td>2001-04-08</td>\n      <td>20001109</td>\n      <td>0</td>\n      <td>0</td>\n      <td>SAC</td>\n      <td>1</td>\n      <td>0</td>\n      <td>2</td>\n      <td>46:56</td>\n      <td>Off Dead Ball</td>\n      <td>0</td>\n      <td>MISS Wallace 20' Jump Shot</td>\n      <td>NaN</td>\n      <td>2</td>\n    </tr>\n    <tr>\n      <th>47760</th>\n      <td>46:26</td>\n      <td>MISS Divac 8' Jump Shot\\nWallace REBOUND (Off:...</td>\n      <td>1</td>\n      <td>0</td>\n      <td>0</td>\n      <td>0</td>\n      <td>2001-04-08</td>\n      <td>20001109</td>\n      <td>0</td>\n      <td>0</td>\n      <td>POR</td>\n      <td>1</td>\n      <td>0</td>\n      <td>2</td>\n      <td>46:41</td>\n      <td>Off Long Mid-Range Miss</td>\n      <td>0</td>\n      <td>Wallace REBOUND (Off:0 Def:1)</td>\n      <td>NaN</td>\n      <td>2</td>\n    </tr>\n    <tr>\n      <th>47759</th>\n      <td>46:26</td>\n      <td>MISS Divac 8' Jump Shot\\nWallace REBOUND (Off:...</td>\n      <td>1</td>\n      <td>0</td>\n      <td>0</td>\n      <td>0</td>\n      <td>2001-04-08</td>\n      <td>20001109</td>\n      <td>0</td>\n      <td>0</td>\n      <td>POR</td>\n      <td>1</td>\n      <td>0</td>\n      <td>2</td>\n      <td>46:41</td>\n      <td>Off Long Mid-Range Miss</td>\n      <td>0</td>\n      <td>MISS Divac 8' Jump Shot</td>\n      <td>NaN</td>\n      <td>2</td>\n    </tr>\n    <tr>\n      <th>47959</th>\n      <td>46:04</td>\n      <td>Pippen 13' Jump Shot (2 PTS)\\n</td>\n      <td>1</td>\n      <td>1</td>\n      <td>0</td>\n      <td>0</td>\n      <td>2001-04-08</td>\n      <td>20001109</td>\n      <td>0</td>\n      <td>0</td>\n      <td>SAC</td>\n      <td>1</td>\n      <td>0</td>\n      <td>2</td>\n      <td>46:26</td>\n      <td>Off Short Mid-Range Miss</td>\n      <td>0</td>\n      <td>Pippen 13' Jump Shot (2 PTS)</td>\n      <td>NaN</td>\n      <td>2</td>\n    </tr>\n    <tr>\n      <th>47758</th>\n      <td>45:48</td>\n      <td>MISS Stojakovic 25' 3PT Jump Shot\\nDivac REBOU...</td>\n      <td>1</td>\n      <td>0</td>\n      <td>1</td>\n      <td>0</td>\n      <td>2001-04-08</td>\n      <td>20001109</td>\n      <td>0</td>\n      <td>1</td>\n      <td>POR</td>\n      <td>1</td>\n      <td>0</td>\n      <td>0</td>\n      <td>46:04</td>\n      <td>Off Short Mid-Range Make</td>\n      <td>0</td>\n      <td>Sabonis REBOUND (Off:0 Def:2)</td>\n      <td>NaN</td>\n      <td>0</td>\n    </tr>\n    <tr>\n      <th>47757</th>\n      <td>45:48</td>\n      <td>MISS Stojakovic 25' 3PT Jump Shot\\nDivac REBOU...</td>\n      <td>1</td>\n      <td>0</td>\n      <td>1</td>\n      <td>0</td>\n      <td>2001-04-08</td>\n      <td>20001109</td>\n      <td>0</td>\n      <td>1</td>\n      <td>POR</td>\n      <td>1</td>\n      <td>0</td>\n      <td>0</td>\n      <td>46:04</td>\n      <td>Off Short Mid-Range Make</td>\n      <td>0</td>\n      <td>MISS Webber  Alley Oop Layup</td>\n      <td>NaN</td>\n      <td>0</td>\n    </tr>\n    <tr>\n      <th>47756</th>\n      <td>45:48</td>\n      <td>MISS Stojakovic 25' 3PT Jump Shot\\nDivac REBOU...</td>\n      <td>1</td>\n      <td>0</td>\n      <td>1</td>\n      <td>0</td>\n      <td>2001-04-08</td>\n      <td>20001109</td>\n      <td>0</td>\n      <td>1</td>\n      <td>POR</td>\n      <td>1</td>\n      <td>0</td>\n      <td>0</td>\n      <td>46:04</td>\n      <td>Off Short Mid-Range Make</td>\n      <td>0</td>\n      <td>Divac REBOUND (Off:1 Def:1)</td>\n      <td>NaN</td>\n      <td>0</td>\n    </tr>\n    <tr>\n      <th>47755</th>\n      <td>45:48</td>\n      <td>MISS Stojakovic 25' 3PT Jump Shot\\nDivac REBOU...</td>\n      <td>1</td>\n      <td>0</td>\n      <td>1</td>\n      <td>0</td>\n      <td>2001-04-08</td>\n      <td>20001109</td>\n      <td>0</td>\n      <td>1</td>\n      <td>POR</td>\n      <td>1</td>\n      <td>0</td>\n      <td>0</td>\n      <td>46:04</td>\n      <td>Off Short Mid-Range Make</td>\n      <td>0</td>\n      <td>MISS Stojakovic 25' 3PT Jump Shot</td>\n      <td>NaN</td>\n      <td>0</td>\n    </tr>\n    <tr>\n      <th>47958</th>\n      <td>45:36</td>\n      <td>MISS Stoudamire 7' Jump Shot\\nDivac REBOUND (O...</td>\n      <td>1</td>\n      <td>0</td>\n      <td>0</td>\n      <td>0</td>\n      <td>2001-04-08</td>\n      <td>20001109</td>\n      <td>0</td>\n      <td>0</td>\n      <td>SAC</td>\n      <td>1</td>\n      <td>0</td>\n      <td>0</td>\n      <td>45:48</td>\n      <td>Off At Rim Miss</td>\n      <td>0</td>\n      <td>Divac REBOUND (Off:1 Def:2)</td>\n      <td>NaN</td>\n      <td>0</td>\n    </tr>\n    <tr>\n      <th>47957</th>\n      <td>45:36</td>\n      <td>MISS Stoudamire 7' Jump Shot\\nDivac REBOUND (O...</td>\n      <td>1</td>\n      <td>0</td>\n      <td>0</td>\n      <td>0</td>\n      <td>2001-04-08</td>\n      <td>20001109</td>\n      <td>0</td>\n      <td>0</td>\n      <td>SAC</td>\n      <td>1</td>\n      <td>0</td>\n      <td>0</td>\n      <td>45:48</td>\n      <td>Off At Rim Miss</td>\n      <td>0</td>\n      <td>MISS Stoudamire 7' Jump Shot</td>\n      <td>NaN</td>\n      <td>0</td>\n    </tr>\n    <tr>\n      <th>47754</th>\n      <td>45:31</td>\n      <td>Christie 24' 3PT Jump Shot (3 PTS) (Williams 1...</td>\n      <td>0</td>\n      <td>0</td>\n      <td>1</td>\n      <td>1</td>\n      <td>2001-04-08</td>\n      <td>20001109</td>\n      <td>0</td>\n      <td>0</td>\n      <td>POR</td>\n      <td>1</td>\n      <td>0</td>\n      <td>0</td>\n      <td>45:36</td>\n      <td>Off Short Mid-Range Miss</td>\n      <td>0</td>\n      <td>Christie 24' 3PT Jump Shot (3 PTS) (Williams 1...</td>\n      <td>NaN</td>\n      <td>0</td>\n    </tr>\n    <tr>\n      <th>47956</th>\n      <td>45:11</td>\n      <td>MISS Wallace  3PT Jump Shot\\nWebber REBOUND (O...</td>\n      <td>0</td>\n      <td>0</td>\n      <td>1</td>\n      <td>0</td>\n      <td>2001-04-08</td>\n      <td>20001109</td>\n      <td>0</td>\n      <td>0</td>\n      <td>SAC</td>\n      <td>1</td>\n      <td>0</td>\n      <td>3</td>\n      <td>45:31</td>\n      <td>Off Arc 3 Make</td>\n      <td>0</td>\n      <td>Webber REBOUND (Off:0 Def:2)</td>\n      <td>NaN</td>\n      <td>3</td>\n    </tr>\n    <tr>\n      <th>47955</th>\n      <td>45:11</td>\n      <td>MISS Wallace  3PT Jump Shot\\nWebber REBOUND (O...</td>\n      <td>0</td>\n      <td>0</td>\n      <td>1</td>\n      <td>0</td>\n      <td>2001-04-08</td>\n      <td>20001109</td>\n      <td>0</td>\n      <td>0</td>\n      <td>SAC</td>\n      <td>1</td>\n      <td>0</td>\n      <td>3</td>\n      <td>45:31</td>\n      <td>Off Arc 3 Make</td>\n      <td>0</td>\n      <td>MISS Wallace  3PT Jump Shot</td>\n      <td>NaN</td>\n      <td>3</td>\n    </tr>\n    <tr>\n      <th>47753</th>\n      <td>45:02</td>\n      <td>MISS Williams 25' 3PT Jump Shot\\nPippen REBOUN...</td>\n      <td>0</td>\n      <td>0</td>\n      <td>1</td>\n      <td>0</td>\n      <td>2001-04-08</td>\n      <td>20001109</td>\n      <td>0</td>\n      <td>0</td>\n      <td>POR</td>\n      <td>1</td>\n      <td>0</td>\n      <td>3</td>\n      <td>45:11</td>\n      <td>Off Corner 3 Miss</td>\n      <td>0</td>\n      <td>Pippen REBOUND (Off:0 Def:1)</td>\n      <td>NaN</td>\n      <td>3</td>\n    </tr>\n    <tr>\n      <th>47752</th>\n      <td>45:02</td>\n      <td>MISS Williams 25' 3PT Jump Shot\\nPippen REBOUN...</td>\n      <td>0</td>\n      <td>0</td>\n      <td>1</td>\n      <td>0</td>\n      <td>2001-04-08</td>\n      <td>20001109</td>\n      <td>0</td>\n      <td>0</td>\n      <td>POR</td>\n      <td>1</td>\n      <td>0</td>\n      <td>3</td>\n      <td>45:11</td>\n      <td>Off Corner 3 Miss</td>\n      <td>0</td>\n      <td>MISS Williams 25' 3PT Jump Shot</td>\n      <td>NaN</td>\n      <td>3</td>\n    </tr>\n    <tr>\n      <th>47954</th>\n      <td>44:53</td>\n      <td>Sabonis 21' Jump Shot (2 PTS) (Smith 1 AST)\\n</td>\n      <td>1</td>\n      <td>1</td>\n      <td>0</td>\n      <td>0</td>\n      <td>2001-04-08</td>\n      <td>20001109</td>\n      <td>0</td>\n      <td>0</td>\n      <td>SAC</td>\n      <td>1</td>\n      <td>0</td>\n      <td>3</td>\n      <td>45:02</td>\n      <td>Off Arc 3 Miss</td>\n      <td>0</td>\n      <td>Sabonis 21' Jump Shot (2 PTS) (Smith 1 AST)</td>\n      <td>NaN</td>\n      <td>3</td>\n    </tr>\n    <tr>\n      <th>47751</th>\n      <td>44:38</td>\n      <td>Sabonis S.FOUL (P1.T1)\\nMISS Divac Free Throw ...</td>\n      <td>0</td>\n      <td>0</td>\n      <td>0</td>\n      <td>0</td>\n      <td>2001-04-08</td>\n      <td>20001109</td>\n      <td>0</td>\n      <td>0</td>\n      <td>POR</td>\n      <td>1</td>\n      <td>1</td>\n      <td>1</td>\n      <td>44:53</td>\n      <td>Off Long Mid-Range Make</td>\n      <td>0</td>\n      <td>Wallace REBOUND (Off:0 Def:2)</td>\n      <td>NaN</td>\n      <td>1</td>\n    </tr>\n    <tr>\n      <th>47750</th>\n      <td>44:38</td>\n      <td>Sabonis S.FOUL (P1.T1)\\nMISS Divac Free Throw ...</td>\n      <td>0</td>\n      <td>0</td>\n      <td>0</td>\n      <td>0</td>\n      <td>2001-04-08</td>\n      <td>20001109</td>\n      <td>0</td>\n      <td>0</td>\n      <td>POR</td>\n      <td>1</td>\n      <td>1</td>\n      <td>1</td>\n      <td>44:53</td>\n      <td>Off Long Mid-Range Make</td>\n      <td>0</td>\n      <td>MISS Divac Free Throw 2 of 2</td>\n      <td>NaN</td>\n      <td>1</td>\n    </tr>\n    <tr>\n      <th>47749</th>\n      <td>44:38</td>\n      <td>Sabonis S.FOUL (P1.T1)\\nMISS Divac Free Throw ...</td>\n      <td>0</td>\n      <td>0</td>\n      <td>0</td>\n      <td>0</td>\n      <td>2001-04-08</td>\n      <td>20001109</td>\n      <td>0</td>\n      <td>0</td>\n      <td>POR</td>\n      <td>1</td>\n      <td>1</td>\n      <td>1</td>\n      <td>44:53</td>\n      <td>Off Long Mid-Range Make</td>\n      <td>0</td>\n      <td>KINGS Rebound</td>\n      <td>NaN</td>\n      <td>1</td>\n    </tr>\n    <tr>\n      <th>47748</th>\n      <td>44:38</td>\n      <td>Sabonis S.FOUL (P1.T1)\\nMISS Divac Free Throw ...</td>\n      <td>0</td>\n      <td>0</td>\n      <td>0</td>\n      <td>0</td>\n      <td>2001-04-08</td>\n      <td>20001109</td>\n      <td>0</td>\n      <td>0</td>\n      <td>POR</td>\n      <td>1</td>\n      <td>1</td>\n      <td>1</td>\n      <td>44:53</td>\n      <td>Off Long Mid-Range Make</td>\n      <td>0</td>\n      <td>MISS Divac Free Throw 1 of 2</td>\n      <td>NaN</td>\n      <td>1</td>\n    </tr>\n    <tr>\n      <th>47747</th>\n      <td>44:38</td>\n      <td>Sabonis S.FOUL (P1.T1)\\nMISS Divac Free Throw ...</td>\n      <td>0</td>\n      <td>0</td>\n      <td>0</td>\n      <td>0</td>\n      <td>2001-04-08</td>\n      <td>20001109</td>\n      <td>0</td>\n      <td>0</td>\n      <td>POR</td>\n      <td>1</td>\n      <td>1</td>\n      <td>1</td>\n      <td>44:53</td>\n      <td>Off Long Mid-Range Make</td>\n      <td>0</td>\n      <td>Sabonis S.FOUL (P1.T1)</td>\n      <td>NaN</td>\n      <td>1</td>\n    </tr>\n    <tr>\n      <th>47953</th>\n      <td>44:24</td>\n      <td>Sabonis 4' Finger Roll (4 PTS) (Wallace 1 AST)\\n</td>\n      <td>1</td>\n      <td>1</td>\n      <td>0</td>\n      <td>0</td>\n      <td>2001-04-08</td>\n      <td>20001109</td>\n      <td>0</td>\n      <td>0</td>\n      <td>SAC</td>\n      <td>1</td>\n      <td>0</td>\n      <td>1</td>\n      <td>44:38</td>\n      <td>Off FT Miss</td>\n      <td>0</td>\n      <td>Sabonis 4' Finger Roll (4 PTS) (Wallace 1 AST)</td>\n      <td>NaN</td>\n      <td>1</td>\n    </tr>\n    <tr>\n      <th>47746</th>\n      <td>44:11</td>\n      <td>MISS Webber 19' Jump Shot\\nSabonis REBOUND (Of...</td>\n      <td>1</td>\n      <td>0</td>\n      <td>0</td>\n      <td>0</td>\n      <td>2001-04-08</td>\n      <td>20001109</td>\n      <td>0</td>\n      <td>0</td>\n      <td>POR</td>\n      <td>1</td>\n      <td>0</td>\n      <td>-1</td>\n      <td>44:24</td>\n      <td>Off At Rim Make</td>\n      <td>0</td>\n      <td>Sabonis REBOUND (Off:0 Def:3)</td>\n      <td>NaN</td>\n      <td>-1</td>\n    </tr>\n    <tr>\n      <th>47745</th>\n      <td>44:11</td>\n      <td>MISS Webber 19' Jump Shot\\nSabonis REBOUND (Of...</td>\n      <td>1</td>\n      <td>0</td>\n      <td>0</td>\n      <td>0</td>\n      <td>2001-04-08</td>\n      <td>20001109</td>\n      <td>0</td>\n      <td>0</td>\n      <td>POR</td>\n      <td>1</td>\n      <td>0</td>\n      <td>-1</td>\n      <td>44:24</td>\n      <td>Off At Rim Make</td>\n      <td>0</td>\n      <td>MISS Webber 19' Jump Shot</td>\n      <td>NaN</td>\n      <td>-1</td>\n    </tr>\n    <tr>\n      <th>47952</th>\n      <td>44:02</td>\n      <td>Smith 17' Jump Shot (2 PTS) (Stoudamire 1 AST)...</td>\n      <td>1</td>\n      <td>1</td>\n      <td>0</td>\n      <td>0</td>\n      <td>2001-04-08</td>\n      <td>20001109</td>\n      <td>0</td>\n      <td>0</td>\n      <td>SAC</td>\n      <td>1</td>\n      <td>1</td>\n      <td>-1</td>\n      <td>44:11</td>\n      <td>Off Long Mid-Range Miss</td>\n      <td>0</td>\n      <td>Smith Free Throw 1 of 1 (3 PTS)</td>\n      <td>NaN</td>\n      <td>-1</td>\n    </tr>\n    <tr>\n      <th>47951</th>\n      <td>44:02</td>\n      <td>Smith 17' Jump Shot (2 PTS) (Stoudamire 1 AST)...</td>\n      <td>1</td>\n      <td>1</td>\n      <td>0</td>\n      <td>0</td>\n      <td>2001-04-08</td>\n      <td>20001109</td>\n      <td>0</td>\n      <td>0</td>\n      <td>SAC</td>\n      <td>1</td>\n      <td>1</td>\n      <td>-1</td>\n      <td>44:11</td>\n      <td>Off Long Mid-Range Miss</td>\n      <td>0</td>\n      <td>Christie S.FOUL (P1.T1)</td>\n      <td>NaN</td>\n      <td>-1</td>\n    </tr>\n    <tr>\n      <th>47950</th>\n      <td>44:02</td>\n      <td>Smith 17' Jump Shot (2 PTS) (Stoudamire 1 AST)...</td>\n      <td>1</td>\n      <td>1</td>\n      <td>0</td>\n      <td>0</td>\n      <td>2001-04-08</td>\n      <td>20001109</td>\n      <td>0</td>\n      <td>0</td>\n      <td>SAC</td>\n      <td>1</td>\n      <td>1</td>\n      <td>-1</td>\n      <td>44:11</td>\n      <td>Off Long Mid-Range Miss</td>\n      <td>0</td>\n      <td>Smith 17' Jump Shot (2 PTS) (Stoudamire 1 AST)</td>\n      <td>NaN</td>\n      <td>-1</td>\n    </tr>\n    <tr>\n      <th>47744</th>\n      <td>43:38</td>\n      <td>MISS Stojakovic  Driving Layup\\nDivac REBOUND ...</td>\n      <td>4</td>\n      <td>0</td>\n      <td>0</td>\n      <td>0</td>\n      <td>2001-04-08</td>\n      <td>20001109</td>\n      <td>0</td>\n      <td>3</td>\n      <td>POR</td>\n      <td>1</td>\n      <td>0</td>\n      <td>-4</td>\n      <td>44:02</td>\n      <td>Off FT Make</td>\n      <td>0</td>\n      <td>Wallace REBOUND (Off:0 Def:3)</td>\n      <td>NaN</td>\n      <td>-4</td>\n    </tr>\n    <tr>\n      <th>47743</th>\n      <td>43:38</td>\n      <td>MISS Stojakovic  Driving Layup\\nDivac REBOUND ...</td>\n      <td>4</td>\n      <td>0</td>\n      <td>0</td>\n      <td>0</td>\n      <td>2001-04-08</td>\n      <td>20001109</td>\n      <td>0</td>\n      <td>3</td>\n      <td>POR</td>\n      <td>1</td>\n      <td>0</td>\n      <td>-4</td>\n      <td>44:02</td>\n      <td>Off FT Make</td>\n      <td>0</td>\n      <td>MISS Divac  Tip Shot</td>\n      <td>NaN</td>\n      <td>-4</td>\n    </tr>\n    <tr>\n      <th>47742</th>\n      <td>43:38</td>\n      <td>MISS Stojakovic  Driving Layup\\nDivac REBOUND ...</td>\n      <td>4</td>\n      <td>0</td>\n      <td>0</td>\n      <td>0</td>\n      <td>2001-04-08</td>\n      <td>20001109</td>\n      <td>0</td>\n      <td>3</td>\n      <td>POR</td>\n      <td>1</td>\n      <td>0</td>\n      <td>-4</td>\n      <td>44:02</td>\n      <td>Off FT Make</td>\n      <td>0</td>\n      <td>Divac REBOUND (Off:4 Def:2)</td>\n      <td>NaN</td>\n      <td>-4</td>\n    </tr>\n  </tbody>\n</table>\n</div>"
     },
     "execution_count": 2,
     "metadata": {},
     "output_type": "execute_result"
    }
   ],
   "source": [
    "#### identify a single testgame\n",
    "testgame = df[df['GAMEID']==20001109]\n",
    "testgame.head(40)"
   ],
   "metadata": {
    "collapsed": false,
    "ExecuteTime": {
     "end_time": "2024-02-17T22:42:53.531223800Z",
     "start_time": "2024-02-17T22:41:59.693898500Z"
    }
   },
   "id": "90688214191f6bb1"
  },
  {
   "cell_type": "code",
   "execution_count": 3,
   "outputs": [],
   "source": [
    "# 函数：将时间字符串转换为总秒数\n",
    "def time_str_to_seconds(time_str):\n",
    "    minutes, seconds = map(int, time_str.split(':'))\n",
    "    return minutes * 60 + seconds\n",
    "\n",
    "# 初始化字典以存储所有比赛的连续领先情况\n",
    "all_games_leads = {}\n",
    "\n",
    "# 处理每场比赛\n",
    "for gameid in df['GAMEID'].unique():\n",
    "    game_data = df[df['GAMEID'] == gameid].sort_values(by='STARTTIME')\n",
    "    current_state = None\n",
    "    consecutive_leads = []\n",
    "\n",
    "    for index, row in game_data.iterrows():\n",
    "        margin = row['ABSOLUTESCOREDIFFERENTIAL']\n",
    "\n",
    "        # 检查领先状态是否改变\n",
    "        if margin > 0:\n",
    "            state = 'positive'\n",
    "        elif margin < 0:\n",
    "            state = 'negative'\n",
    "        else:\n",
    "            state = 'neutral'\n",
    "\n",
    "        if current_state != state:\n",
    "            if current_state is not None and consecutive_leads:\n",
    "                # 结束上一个领先段落，只有当列表不为空时\n",
    "                consecutive_leads[-1]['end_time'] = row['STARTTIME']\n",
    "            if state != 'neutral':\n",
    "                # 开始新的领先段落\n",
    "                consecutive_leads.append({'start_time': row['STARTTIME'],\n",
    "                                          'end_time': None,\n",
    "                                          'state': state,\n",
    "                                          'maxlead': abs(margin),\n",
    "                                          'maxlead_time': row['STARTTIME']})\n",
    "\n",
    "        current_state = state\n",
    "\n",
    "        # 更新连续领先的最大领先分差及其时间\n",
    "        if consecutive_leads:\n",
    "            if abs(margin) > consecutive_leads[-1]['maxlead']:\n",
    "                consecutive_leads[-1]['maxlead'] = abs(margin)\n",
    "                consecutive_leads[-1]['maxlead_time'] = row['STARTTIME']\n",
    "\n",
    "    # 确保最后一个领先段落有结束时间\n",
    "    if consecutive_leads and consecutive_leads[-1]['end_time'] is None:\n",
    "        consecutive_leads[-1]['end_time'] = game_data.iloc[-1]['ENDTIME']\n",
    "\n",
    "    all_games_leads[gameid] = consecutive_leads"
   ],
   "metadata": {
    "collapsed": false,
    "ExecuteTime": {
     "end_time": "2024-02-17T22:42:53.531223800Z",
     "start_time": "2024-02-17T22:41:59.722199300Z"
    }
   },
   "id": "ea066b215c80389e"
  },
  {
   "cell_type": "code",
   "execution_count": 4,
   "outputs": [],
   "source": [
    "# 重新格式化结果以包括每次领先的分界线时间和计算建立和消失时间\n",
    "formatted_results = {}\n",
    "for gameid, leads in all_games_leads.items():\n",
    "    formatted_leads = []\n",
    "    for lead in leads:\n",
    "        start_time_seconds = time_str_to_seconds(lead['start_time'])\n",
    "        maxlead_time_seconds = time_str_to_seconds(lead['maxlead_time'])\n",
    "        end_time_seconds = time_str_to_seconds(lead['end_time'])\n",
    "\n",
    "        # 计算领先建立和消失的时间\n",
    "        build_time = maxlead_time_seconds - start_time_seconds if maxlead_time_seconds > start_time_seconds else 0\n",
    "        disappear_time = end_time_seconds - maxlead_time_seconds if end_time_seconds > maxlead_time_seconds else 0\n",
    "\n",
    "        formatted_lead = {\n",
    "            'id': gameid,\n",
    "            'maxlead': lead['maxlead'],\n",
    "            'dividing_line': lead['maxlead_time'],\n",
    "            'starttime': lead['start_time'],\n",
    "            'endtime': lead['end_time'],\n",
    "            'state': lead['state'],\n",
    "            'buildtime': build_time,\n",
    "            'disappeartime': disappear_time\n",
    "        }\n",
    "        formatted_leads.append(formatted_lead)\n",
    "\n",
    "    formatted_results[gameid] = formatted_leads"
   ],
   "metadata": {
    "collapsed": false,
    "ExecuteTime": {
     "end_time": "2024-02-17T22:42:53.531223800Z",
     "start_time": "2024-02-17T22:42:15.612999100Z"
    }
   },
   "id": "3dca42a98b21a3bf"
  },
  {
   "cell_type": "code",
   "execution_count": 5,
   "outputs": [
    {
     "name": "stdout",
     "output_type": "stream",
     "text": [
      "Formatted Leads - Game ID: 20000001\n",
      "{'id': 20000001, 'maxlead': 32, 'dividing_line': '10:25', 'starttime': '00:07', 'endtime': '40:33', 'state': 'negative', 'buildtime': 618, 'disappeartime': 1808}\n",
      "{'id': 20000001, 'maxlead': 2, 'dividing_line': '40:33', 'starttime': '40:33', 'endtime': '41:55', 'state': 'positive', 'buildtime': 0, 'disappeartime': 82}\n",
      "{'id': 20000001, 'maxlead': 4, 'dividing_line': '42:31', 'starttime': '41:55', 'endtime': '43:57', 'state': 'negative', 'buildtime': 36, 'disappeartime': 86}\n",
      "{'id': 20000001, 'maxlead': 2, 'dividing_line': '43:57', 'starttime': '43:57', 'endtime': '44:31', 'state': 'negative', 'buildtime': 0, 'disappeartime': 34}\n",
      "{'id': 20000001, 'maxlead': 3, 'dividing_line': '44:31', 'starttime': '44:31', 'endtime': '45:11', 'state': 'negative', 'buildtime': 0, 'disappeartime': 40}\n",
      "{'id': 20000001, 'maxlead': 1, 'dividing_line': '45:11', 'starttime': '45:11', 'endtime': '46:08', 'state': 'positive', 'buildtime': 0, 'disappeartime': 57}\n",
      "{'id': 20000001, 'maxlead': 1, 'dividing_line': '46:08', 'starttime': '46:08', 'endtime': '46:18', 'state': 'negative', 'buildtime': 0, 'disappeartime': 10}\n",
      "{'id': 20000001, 'maxlead': 1, 'dividing_line': '46:18', 'starttime': '46:18', 'endtime': '47:28', 'state': 'positive', 'buildtime': 0, 'disappeartime': 70}\n",
      "{'id': 20000001, 'maxlead': 1, 'dividing_line': '47:28', 'starttime': '47:28', 'endtime': '47:40', 'state': 'negative', 'buildtime': 0, 'disappeartime': 12}\n"
     ]
    }
   ],
   "source": [
    "# 打印第一场比赛的连续领先情况（作为示例）\n",
    "first_game_id = next(iter(formatted_results))\n",
    "print(\"Formatted Leads - Game ID:\", first_game_id)\n",
    "for lead in formatted_results[first_game_id]:\n",
    "    print(lead)"
   ],
   "metadata": {
    "collapsed": false,
    "ExecuteTime": {
     "end_time": "2024-02-17T22:42:53.531223800Z",
     "start_time": "2024-02-17T22:42:15.653536500Z"
    }
   },
   "id": "ec82116a1fa132aa"
  },
  {
   "cell_type": "code",
   "execution_count": 6,
   "outputs": [],
   "source": [
    "import numpy as np\n",
    "\n",
    "def convert_numpy_int(obj):\n",
    "    if isinstance(obj, np.integer):\n",
    "        return int(obj)\n",
    "    elif isinstance(obj, dict):\n",
    "        return {key: convert_numpy_int(value) for key, value in obj.items()}\n",
    "    elif isinstance(obj, list):\n",
    "        return [convert_numpy_int(element) for element in obj]\n",
    "    else:\n",
    "        return obj\n",
    "\n",
    "# 转换 formatted_results 字典中的所有 NumPy int64 类型的值\n",
    "converted_formatted_results = convert_numpy_int(formatted_results)\n",
    "\n",
    "# 转换键为字符串并保存为 JSON 文件\n",
    "converted_all_games_leads = {str(gameid): leads for gameid, leads in converted_formatted_results.items()}\n",
    "output_file = 'data_handled/2000.json'\n",
    "with open(output_file, 'w') as file:\n",
    "    json.dump(converted_all_games_leads, file)"
   ],
   "metadata": {
    "collapsed": false,
    "ExecuteTime": {
     "end_time": "2024-02-17T22:42:53.531223800Z",
     "start_time": "2024-02-17T22:42:15.661709900Z"
    }
   },
   "id": "7f786e6931bc2b72"
  }
 ],
 "metadata": {
  "kernelspec": {
   "display_name": "Python 3",
   "language": "python",
   "name": "python3"
  },
  "language_info": {
   "codemirror_mode": {
    "name": "ipython",
    "version": 2
   },
   "file_extension": ".py",
   "mimetype": "text/x-python",
   "name": "python",
   "nbconvert_exporter": "python",
   "pygments_lexer": "ipython2",
   "version": "2.7.6"
  }
 },
 "nbformat": 4,
 "nbformat_minor": 5
}
